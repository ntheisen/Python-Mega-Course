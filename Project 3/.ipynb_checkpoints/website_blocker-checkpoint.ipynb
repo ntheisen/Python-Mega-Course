{
 "cells": [
  {
   "cell_type": "code",
   "execution_count": null,
   "metadata": {},
   "outputs": [],
   "source": [
    "#Create program that blocks distracting websites during working hours\n",
    "import time\n",
    "from datetime import datetime as dt"
   ]
  },
  {
   "cell_type": "code",
   "execution_count": null,
   "metadata": {},
   "outputs": [],
   "source": [
    "#do not have admin privileges, will point to a temporary hosts file\n",
    "host_path = r'C:\\Users\\the607\\AnacondaProjects\\Udemy\\Python-Mega-Course\\Project 3\\hosts'  #temp host file directory\n",
    "#host_path = C:\\Windows\\System32\\drivers\\etc    #use with admin privileges\n",
    "redirect = '127.0.0.1'  #local\n",
    "\n",
    "website_list = ['wsj.com','facebook.com','twitter.com']"
   ]
  },
  {
   "cell_type": "code",
   "execution_count": null,
   "metadata": {},
   "outputs": [],
   "source": [
    "while True:\n",
    "    if dt(dt.now().year, dt.now().month, dt.now().day, 8) < dt.now() < dt(dt.now().year, dt.now().month, dt.now().day, 17):\n",
    "        print('Working hours')   #8am to 5pm\n",
    "        with open(host_path, 'r+') as file:\n",
    "            content = file.read()\n",
    "            for website in website_list:\n",
    "                if website in content:\n",
    "                    pass\n",
    "                else:\n",
    "                    file.write(redirect + ' ' + website + '\\n')\n",
    "    else:\n",
    "        with open(host_path, 'r+') as file:\n",
    "            content = file.readlines()\n",
    "            file.seek(0)\n",
    "            for line in content:\n",
    "                if not any(website in line for website in website_list):  #writing the default lines in hosts file\n",
    "                    file.write(line)\n",
    "            file.truncate()     #truncates all text that is not default\n",
    "        print('Ok')\n",
    "    time.sleep(5)"
   ]
  },
  {
   "cell_type": "code",
   "execution_count": null,
   "metadata": {},
   "outputs": [],
   "source": []
  }
 ],
 "metadata": {
  "kernelspec": {
   "display_name": "Python 3",
   "language": "python",
   "name": "python3"
  },
  "language_info": {
   "codemirror_mode": {
    "name": "ipython",
    "version": 3
   },
   "file_extension": ".py",
   "mimetype": "text/x-python",
   "name": "python",
   "nbconvert_exporter": "python",
   "pygments_lexer": "ipython3",
   "version": "3.6.9"
  }
 },
 "nbformat": 4,
 "nbformat_minor": 2
}
