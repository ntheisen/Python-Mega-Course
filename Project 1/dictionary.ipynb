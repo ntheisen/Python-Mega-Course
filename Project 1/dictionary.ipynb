{
 "cells": [
  {
   "cell_type": "markdown",
   "metadata": {},
   "source": [
    "### Project 1\n",
    "Create a comand-line based dictionary with a word suggestion"
   ]
  },
  {
   "cell_type": "code",
   "execution_count": 2,
   "metadata": {},
   "outputs": [],
   "source": [
    "import json\n",
    "from difflib import get_close_matches"
   ]
  },
  {
   "cell_type": "code",
   "execution_count": 3,
   "metadata": {},
   "outputs": [],
   "source": [
    "data = json.load(open('data.json'))"
   ]
  },
  {
   "cell_type": "code",
   "execution_count": 5,
   "metadata": {},
   "outputs": [
    {
     "name": "stdout",
     "output_type": "stream",
     "text": [
      "Enter word: python\n",
      "(Pythonidae) The common name for a group of non-venomous constricting snakes.\n"
     ]
    }
   ],
   "source": [
    "def translate_word(word):\n",
    "    w = word.lower()\n",
    "    if w in data:\n",
    "        return data[w]\n",
    "    elif w.title() in data:   #e.g. Texas vs texas\n",
    "        return data[w.title()]\n",
    "    elif w.upper() in data:\n",
    "        return data[w.upper()]\n",
    "    elif len(get_close_matches(w, data.keys())) > 0:\n",
    "        yn = input('Did you mean %s instead?  y/n ' % get_close_matches(w, data.keys())[0])\n",
    "        if yn.lower() == 'y':\n",
    "            return data[get_close_matches(w, data.keys())[0]]\n",
    "        elif yn.lower() == 'n':\n",
    "            return 'Word not found.  Please double-check it.'\n",
    "        else:\n",
    "            return 'Invalid entry.'\n",
    "    else:\n",
    "        return 'Word not found.  Please double-check it.'\n",
    "\n",
    "word = input('Enter word: ')\n",
    "\n",
    "output = translate_word(word)\n",
    "\n",
    "if type(output) == list:\n",
    "    for item in output:\n",
    "        print(item)\n",
    "else:\n",
    "    print(output)"
   ]
  },
  {
   "cell_type": "code",
   "execution_count": null,
   "metadata": {},
   "outputs": [],
   "source": []
  }
 ],
 "metadata": {
  "kernelspec": {
   "display_name": "Python 3",
   "language": "python",
   "name": "python3"
  },
  "language_info": {
   "codemirror_mode": {
    "name": "ipython",
    "version": 3
   },
   "file_extension": ".py",
   "mimetype": "text/x-python",
   "name": "python",
   "nbconvert_exporter": "python",
   "pygments_lexer": "ipython3",
   "version": "3.6.9"
  }
 },
 "nbformat": 4,
 "nbformat_minor": 2
}
