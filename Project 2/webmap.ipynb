{
 "cells": [
  {
   "cell_type": "code",
   "execution_count": 1,
   "metadata": {},
   "outputs": [],
   "source": [
    "#Project 2 - Create a map with location of US volcanoes and world population scale\n",
    "\n",
    "import folium\n",
    "import pandas as pd"
   ]
  },
  {
   "cell_type": "code",
   "execution_count": 4,
   "metadata": {},
   "outputs": [],
   "source": [
    "volcanoes = pd.read_csv('Volcanoes.txt')\n",
    "\n",
    "lat = list(volcanoes['LAT'])\n",
    "lon = list(volcanoes['LON'])\n",
    "names = list(volcanoes['NAME'])\n",
    "elev = list(volcanoes['ELEV'])\n",
    "\n",
    "def color_code(elev):\n",
    "    if elev < 1000:\n",
    "        return 'green'\n",
    "    elif 1000 <= elev < 3000:\n",
    "        return 'orange'\n",
    "    else:\n",
    "        return 'red'\n",
    "\n",
    "\n",
    "html = '''<h4>Volcano Information:</h4>\n",
    "Height %s m\n",
    "'''\n",
    "\n",
    "map = folium.Map(location=[38.58,-99.09], zoom_start=5, tiles='Stamen Terrain')\n",
    "\n",
    "fgv = folium.FeatureGroup(name='Volcanoes')\n",
    "\n",
    "for lt, ln, el in zip(lat,lon,elev):\n",
    "    iframe = folium.IFrame(html= html % str(el), width=200, height=200)\n",
    "    fgv.add_child(folium.CircleMarker(location=[lt, ln], radius=6, popup=folium.Popup(iframe),\n",
    "                   fill_color=color_code(el), color='grey', fill_opacity=0.7))\n",
    "\n",
    "\n",
    "fgp = folium.FeatureGroup(name='Population')\n",
    "    \n",
    "fgp.add_child(folium.GeoJson(data= open('world.json', encoding='utf-8-sig').read(), \n",
    "                style_function= lambda x: {'fillColor':'green' if x['properties']['POP2005'] < 20000000 \n",
    "                else 'orange' if 20000000 <= x['properties']['POP2005'] < 50000000 else 'red'})) \n",
    "\n",
    "map.add_child(fgv)\n",
    "map.add_child(fgp)\n",
    "map.add_child(folium.LayerControl())\n",
    "\n",
    "map.save('map.html')"
   ]
  },
  {
   "cell_type": "code",
   "execution_count": null,
   "metadata": {},
   "outputs": [],
   "source": []
  }
 ],
 "metadata": {
  "kernelspec": {
   "display_name": "Python 3",
   "language": "python",
   "name": "python3"
  },
  "language_info": {
   "codemirror_mode": {
    "name": "ipython",
    "version": 3
   },
   "file_extension": ".py",
   "mimetype": "text/x-python",
   "name": "python",
   "nbconvert_exporter": "python",
   "pygments_lexer": "ipython3",
   "version": "3.6.9"
  }
 },
 "nbformat": 4,
 "nbformat_minor": 2
}
